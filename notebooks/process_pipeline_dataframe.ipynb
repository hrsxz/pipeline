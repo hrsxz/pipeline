{
 "cells": [
  {
   "cell_type": "code",
   "execution_count": 6,
   "metadata": {},
   "outputs": [
    {
     "name": "stderr",
     "output_type": "stream",
     "text": [
      "2024-12-17 07:42:37,007 - INFO - dataset.py - Building data transformation pipeline.\n",
      "2024-12-17 07:42:37,008 - INFO - dataset.py - Added step 'choose_columns' to the pipeline.\n",
      "2024-12-17 07:42:37,008 - INFO - dataset.py - Added step 'delete_outlier_in_volume' to the pipeline.\n",
      "2024-12-17 07:42:37,008 - INFO - dataset.py - Added step 'concat_dataframes' to the pipeline.\n",
      "2024-12-17 07:42:37,009 - INFO - dataset.py - Data transformation pipeline built successfully.\n",
      "2024-12-17 07:42:37,009 - INFO - dataset.py - Applying the data transformation pipeline.\n",
      "2024-12-17 07:42:37,011 - INFO - dataset.py - Selected columns from 2 DataFrames.\n",
      "2024-12-17 07:42:37,012 - INFO - dataset.py - Filtered 2 DataFrames.\n",
      "2024-12-17 07:42:37,013 - INFO - dataset.py - Concatenating DataFrames with join type 'inner'.\n",
      "2024-12-17 07:42:37,014 - INFO - dataset.py - Concatenated 2 DataFrames into one DataFrame with shape (5, 2).\n",
      "2024-12-17 07:42:37,014 - INFO - dataset.py - Data transformation pipeline applied successfully.\n"
     ]
    },
    {
     "name": "stdout",
     "output_type": "stream",
     "text": [
      "[   radius  volume  other\n",
      "0       1      50      9\n",
      "1       2     150      8\n",
      "2       3      30      7\n",
      "3       4     200      6,    radius  volume  other\n",
      "0       5      80      1\n",
      "1       6      90      2\n",
      "2       7     120      3\n",
      "3       8      40      4]\n",
      "Transformed Data:\n",
      "   radius  volume\n",
      "0       1      50\n",
      "1       3      30\n",
      "2       5      80\n",
      "3       6      90\n",
      "4       8      40\n"
     ]
    }
   ],
   "source": [
    "import pandas as pd\n",
    "from src.data import dataset\n",
    "\n",
    "# Sample data\n",
    "data1 = pd.DataFrame({\n",
    "    \"radius\": [1, 2, 3, 4],\n",
    "    \"volume\": [50, 150, 30, 200],\n",
    "    \"other\": [9, 8, 7, 6]\n",
    "})\n",
    "\n",
    "data2 = pd.DataFrame({\n",
    "    \"radius\": [5, 6, 7, 8],\n",
    "    \"volume\": [80, 90, 120, 40],\n",
    "    \"other\": [1, 2, 3, 4]\n",
    "})\n",
    "\n",
    "data = [data1, data2]\n",
    "print(data)\n",
    "\n",
    "# 初始化 DataPipeline 并应用数据转换\n",
    "pipeline = dataset.DataPipeline(config_path=\"settings/pipeline.yaml\")\n",
    "transformed_data = pipeline.apply(data)\n",
    "\n",
    "print(\"Transformed Data:\")\n",
    "print(transformed_data)\n"
   ]
  }
 ],
 "metadata": {
  "kernelspec": {
   "display_name": ".venv",
   "language": "python",
   "name": "python3"
  },
  "language_info": {
   "codemirror_mode": {
    "name": "ipython",
    "version": 3
   },
   "file_extension": ".py",
   "mimetype": "text/x-python",
   "name": "python",
   "nbconvert_exporter": "python",
   "pygments_lexer": "ipython3",
   "version": "3.11.9"
  }
 },
 "nbformat": 4,
 "nbformat_minor": 2
}
